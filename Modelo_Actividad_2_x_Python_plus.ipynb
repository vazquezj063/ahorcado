{
  "nbformat": 4,
  "nbformat_minor": 0,
  "metadata": {
    "colab": {
      "name": "Modelo Actividad 2 x Python plus.ipynb",
      "provenance": [],
      "include_colab_link": true
    },
    "kernelspec": {
      "name": "python3",
      "display_name": "Python 3"
    },
    "language_info": {
      "name": "python"
    }
  },
  "cells": [
    {
      "cell_type": "markdown",
      "metadata": {
        "id": "view-in-github",
        "colab_type": "text"
      },
      "source": [
        "<a href=\"https://colab.research.google.com/github/vazquezj063/ahorcado/blob/main/Modelo_Actividad_2_x_Python_plus.ipynb\" target=\"_parent\"><img src=\"https://colab.research.google.com/assets/colab-badge.svg\" alt=\"Open In Colab\"/></a>"
      ]
    },
    {
      "cell_type": "markdown",
      "metadata": {
        "id": "qaIXj-PmiAQY"
      },
      "source": [
        "**Nombre:** Claudia Banchoff\n",
        "# Parte 1\n",
        "## Enunciado asignado\n",
        "**Enunciado 3:** dado el archivo de registros de jugadas (eventos) de MemPy, mostrar un gráfico que dada una partida, muestre hasta 5 palabras con las que se jugó  y la cantidad de intentos  necesarios para encontrarlas. Para elegir la partida, deben mostrar los IDs existentes en el dataset y desde teclado ingresar la opción elegida.\n",
        "\n"
      ]
    },
    {
      "cell_type": "code",
      "metadata": {
        "id": "yIp83wURh__d"
      },
      "source": [
        "import pandas as pd\n",
        "from matplotlib import pyplot as plt\n",
        "\n",
        "data_set = pd.read_csv('datos de prueba.csv', encoding='utf-8')\n",
        "df_a=data_set[[\"Partida\",'Cantidad total de palabras a adivinar',\"Palabra\"]]\n",
        "df_a"
      ],
      "execution_count": null,
      "outputs": []
    },
    {
      "cell_type": "code",
      "metadata": {
        "id": "4M6zLzBkTIUb"
      },
      "source": [
        "def es_numero(cadena):\n",
        "    try:\n",
        "        int(cadena)\n",
        "        return True\n",
        "    except (TypeError,ValueError):\n",
        "        return False\n",
        "\n",
        "numero=input(\"ingrese un numero del 1 al 7.Para finalizar ingrese un numero o cualquier letra:\")\n",
        "if es_numero(numero):\n",
        "    num=int(numero)\n",
        "    if num >=1  and num <=7:\n",
        "            df_b=df_a[df_a[\"Partida\"] ==num]\n",
        "            df_d=df_b[\"Palabra\"].value_counts()\n",
        "            df_e=df_d[0:5]\n",
        "            df_e.plot(kind=\"pie\",autopct='%1.1f%%', startangle=90, labeldistance= 1.0,shadow=True)\n",
        "            plt.title(\"Palabras\")\n",
        "    else:\n",
        "        print(\"Fin de la ejecucion\")      \n",
        "else:\n",
        "    print(\"Fin de la ejecucion\")"
      ],
      "execution_count": null,
      "outputs": []
    },
    {
      "cell_type": "markdown",
      "metadata": {
        "id": "PmXBatzYi8rI"
      },
      "source": [
        "# Parte 2\n",
        "\n",
        "## Creterio elegido\n",
        "\n",
        "**Dataset:** archivo elegido Pokemon.csv\n",
        "\n",
        "**Enunciado adicional:** dado alguno de los datasets elegidos para el trabajo integrador, mostrar una nube de palabras (con la librería wordcloud) con las palabras elegidas para el juego de acuerdo a alguno de los criterios elegidos en su trabajo.  Considerar utilizar la opción de que se puedan repetir las palabras.\n"
      ]
    },
    {
      "cell_type": "code",
      "metadata": {
        "id": "vJ-FcB8wjd1E"
      },
      "source": [
        "from wordcloud import WordCloud,STOPWORDS\n",
        "import matplotlib.pyplot as plt\n",
        "import pandas as pd\n",
        "import numpy as np\n",
        "from PIL import Image\n",
        "\n",
        "ds = pd.read_csv('Pokemon.csv',encoding='utf-8')\n",
        "\n",
        "nombres = ds[0:16]\n",
        "palabras = nombres.Name.unique()\n",
        "print(nombres)\n",
        "def plot_cloud (wordcloud): \n",
        "    # Establecer el tamaño de la figura \n",
        "    plt.figure (figsize = (4, 3)) \n",
        "    # Mostrar imagen \n",
        "    plt.imshow (wordcloud) \n",
        "    # Sin detalles del eje \n",
        "    plt.axis (\"off\" )\n",
        "text = str(nombres)\n",
        "wordcloud = WordCloud(width = 3000, height = 2000, random_state=1, background_color='black', colormap='Set2', collocations=False, stopwords = STOPWORDS).generate(text)\n",
        "\n",
        "plot_cloud(wordcloud)"
      ],
      "execution_count": null,
      "outputs": []
    },
    {
      "cell_type": "code",
      "metadata": {
        "id": "5bbl2UpFZ_mO"
      },
      "source": [
        "mask = np.array(Image.open('imagen_2.png'))\n",
        "wordcloud = WordCloud(width = 3000, height = 2000, random_state=1,background_color='white', colormap='Set2', collocations=False, stopwords =STOPWORDS).generate(text)\n",
        "\n",
        "plot_cloud(wordcloud)"
      ],
      "execution_count": null,
      "outputs": []
    }
  ]
}